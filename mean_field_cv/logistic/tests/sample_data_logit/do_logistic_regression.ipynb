{
 "cells": [
  {
   "cell_type": "code",
   "execution_count": 23,
   "metadata": {
    "collapsed": true
   },
   "outputs": [],
   "source": [
    "import numpy as np\n",
    "import csv\n",
    "\n",
    "from sklearn import linear_model\n",
    "from sklearn import datasets\n",
    "from sklearn.svm import l1_min_c"
   ]
  },
  {
   "cell_type": "code",
   "execution_count": 24,
   "metadata": {},
   "outputs": [
    {
     "name": "stdout",
     "output_type": "stream",
     "text": [
      "do_logistic_regression.ipynb  dummy_Ycode.csv\r\n",
      "dummy_X.csv                   dummy_wV.csv\r\n",
      "dummy_Y.csv\r\n"
     ]
    }
   ],
   "source": [
    "ls"
   ]
  },
  {
   "cell_type": "code",
   "execution_count": 25,
   "metadata": {
    "collapsed": true
   },
   "outputs": [],
   "source": [
    "# read X\n",
    "reader = csv.reader(open(\"./dummy_X.csv\", \"r\"))\n",
    "X = []\n",
    "for data in reader:\n",
    "    X.append(data)\n",
    "X = np.array(X)\n",
    "\n",
    "# read Y \n",
    "reader = csv.reader(open(\"./dummy_Y.csv\", \"r\"))\n",
    "Y = []\n",
    "for data in reader:\n",
    "    Y.append(data)\n",
    "y = np.array(Y).reshape(X.shape[0],)"
   ]
  },
  {
   "cell_type": "code",
   "execution_count": 26,
   "metadata": {},
   "outputs": [
    {
     "name": "stdout",
     "output_type": "stream",
     "text": [
      "(800, 400)\n",
      "(800,)\n"
     ]
    }
   ],
   "source": [
    "print(np.array(X).shape)\n",
    "print(np.array(y).shape)"
   ]
  },
  {
   "cell_type": "code",
   "execution_count": 27,
   "metadata": {},
   "outputs": [],
   "source": [
    "clf = linear_model.LogisticRegression(C=1.0, penalty='l1', tol=1e-8, fit_intercept=False)\n",
    "result = clf.fit(X, y)"
   ]
  },
  {
   "cell_type": "code",
   "execution_count": 28,
   "metadata": {},
   "outputs": [],
   "source": [
    "result.coef_.shape\n",
    "writer = csv.writer(open(\"./dummy_wV.csv\",\"w\"))\n",
    "for row in result.coef_:\n",
    "    writer.writerow(row)"
   ]
  },
  {
   "cell_type": "code",
   "execution_count": null,
   "metadata": {
    "collapsed": true
   },
   "outputs": [],
   "source": []
  }
 ],
 "metadata": {
  "kernelspec": {
   "display_name": "Python 3",
   "language": "python",
   "name": "python3"
  },
  "language_info": {
   "codemirror_mode": {
    "name": "ipython",
    "version": 3
   },
   "file_extension": ".py",
   "mimetype": "text/x-python",
   "name": "python",
   "nbconvert_exporter": "python",
   "pygments_lexer": "ipython3",
   "version": "3.6.2"
  }
 },
 "nbformat": 4,
 "nbformat_minor": 2
}
