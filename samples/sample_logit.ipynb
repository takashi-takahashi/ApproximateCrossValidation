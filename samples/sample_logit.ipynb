{
 "cells": [
  {
   "cell_type": "code",
   "execution_count": 2,
   "metadata": {
    "collapsed": true
   },
   "outputs": [],
   "source": [
    "import sys,os\n",
    "sys.path.append(os.pardir)\n",
    "import numpy as np\n",
    "import csv\n",
    "from mean_field_cv.logistic.saacv_logit import saacv_logit\n",
    "from mean_field_cv.logistic.acv_logit import acv_logit"
   ]
  },
  {
   "cell_type": "code",
   "execution_count": 3,
   "metadata": {
    "collapsed": true
   },
   "outputs": [],
   "source": [
    "# read data\n",
    "X = []\n",
    "\n",
    "X_reader = csv.reader(open(\"./sample_data_set/sample_data_logit/dummy_x.csv\", \"r\"))\n",
    "for data in X_reader:\n",
    "    X.append(data)\n",
    "X = np.array(X, dtype=np.float64)\n",
    "\n",
    "Ycode = []\n",
    "Ycode_reader = csv.reader(open(\"./sample_data_set/sample_data_logit/dummy_Ycode.csv\", \"r\"))\n",
    "for data in Ycode_reader:\n",
    "    Ycode.append(data)\n",
    "Ycode = np.array(Ycode, dtype=np.int64)\n",
    "\n",
    "wV = []\n",
    "wV_reader = csv.reader(open(\"./sample_data_set/sample_data_logit/dummy_wV.csv\", \"r\"))\n",
    "for data in wV_reader:\n",
    "    wV.append(data)\n",
    "wV = np.array(wV, dtype=np.float64)"
   ]
  },
  {
   "cell_type": "code",
   "execution_count": 4,
   "metadata": {},
   "outputs": [
    {
     "name": "stdout",
     "output_type": "stream",
     "text": [
      "1.29 ms ± 21.2 µs per loop (mean ± std. dev. of 7 runs, 1000 loops each)\n"
     ]
    }
   ],
   "source": [
    "%%timeit\n",
    "saacv_logit(wV, X, Ycode)"
   ]
  },
  {
   "cell_type": "code",
   "execution_count": 5,
   "metadata": {},
   "outputs": [
    {
     "name": "stdout",
     "output_type": "stream",
     "text": [
      "10.2 ms ± 1.47 ms per loop (mean ± std. dev. of 7 runs, 100 loops each)\n"
     ]
    }
   ],
   "source": [
    "%%timeit\n",
    "acv_logit(wV, X, Ycode)"
   ]
  }
 ],
 "metadata": {
  "kernelspec": {
   "display_name": "Python 3",
   "language": "python",
   "name": "python3"
  },
  "language_info": {
   "codemirror_mode": {
    "name": "ipython",
    "version": 3
   },
   "file_extension": ".py",
   "mimetype": "text/x-python",
   "name": "python",
   "nbconvert_exporter": "python",
   "pygments_lexer": "ipython3",
   "version": "3.6.2"
  }
 },
 "nbformat": 4,
 "nbformat_minor": 2
}
