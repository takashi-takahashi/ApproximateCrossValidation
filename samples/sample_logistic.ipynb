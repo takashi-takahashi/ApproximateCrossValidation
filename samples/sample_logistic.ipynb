{
 "cells": [
  {
   "cell_type": "code",
   "execution_count": 1,
   "metadata": {},
   "outputs": [],
   "source": [
    "import numpy as np\n",
    "import csv\n",
    "from mean_field_cv.logistic.saacv_mlr import saacv_mlr\n",
    "from mean_field_cv.logistic.acv_mlr import acv_mlr"
   ]
  },
  {
   "cell_type": "code",
   "execution_count": 2,
   "metadata": {},
   "outputs": [],
   "source": [
    "# read data\n",
    "X = []\n",
    "\n",
    "X_reader = csv.reader(open(\"./sample_data_set/sample_data_mlr/dummy_x.csv\", \"r\"))\n",
    "for data in X_reader:\n",
    "    X.append(data)\n",
    "X = np.array(X, dtype=np.float64)\n",
    "\n",
    "Ycode = []\n",
    "Ycode_reader = csv.reader(open(\"./sample_data_set/sample_data_mlr/dummy_Ycode.csv\", \"r\"))\n",
    "for data in Ycode_reader:\n",
    "    Ycode.append(data)\n",
    "Ycode = np.array(Ycode, dtype=np.int64)\n",
    "\n",
    "wV = []\n",
    "wV_reader = csv.reader(open(\"./sample_data_set/sample_data_mlr/dummy_wV.csv\", \"r\"))\n",
    "for data in wV_reader:\n",
    "    wV.append(data)\n",
    "wV = np.array(wV, dtype=np.float64)"
   ]
  },
  {
   "cell_type": "code",
   "execution_count": 3,
   "metadata": {},
   "outputs": [
    {
     "name": "stdout",
     "output_type": "stream",
     "text": [
      "2.02 s ± 83.6 ms per loop (mean ± std. dev. of 7 runs, 1 loop each)\n"
     ]
    }
   ],
   "source": [
    "%%timeit\n",
    "# %whos\n",
    "saacv_mlr(wV, X, Ycode)"
   ]
  },
  {
   "cell_type": "code",
   "execution_count": 4,
   "metadata": {},
   "outputs": [
    {
     "name": "stdout",
     "output_type": "stream",
     "text": [
      "1.42 s ± 135 ms per loop (mean ± std. dev. of 7 runs, 1 loop each)\n"
     ]
    }
   ],
   "source": [
    "%%timeit\n",
    "# % whos\n",
    "acv_mlr(wV, X, Ycode)"
   ]
  }
 ],
 "metadata": {
  "kernelspec": {
   "display_name": "Python 3",
   "language": "python",
   "name": "python3"
  },
  "language_info": {
   "codemirror_mode": {
    "name": "ipython",
    "version": 3
   },
   "file_extension": ".py",
   "mimetype": "text/x-python",
   "name": "python",
   "nbconvert_exporter": "python",
   "pygments_lexer": "ipython3",
   "version": "3.6.2"
  }
 },
 "nbformat": 4,
 "nbformat_minor": 2
}
